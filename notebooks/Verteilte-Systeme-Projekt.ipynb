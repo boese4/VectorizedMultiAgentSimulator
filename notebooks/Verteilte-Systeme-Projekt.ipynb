{
 "cells": [
  {
   "cell_type": "markdown",
   "metadata": {},
   "source": [
    "# Initialisieren"
   ]
  },
  {
   "cell_type": "code",
   "execution_count": null,
   "metadata": {},
   "outputs": [],
   "source": [
    "import pyvirtualdisplay\n",
    "display = pyvirtualdisplay.Display(visible=False, size=(1400, 900))\n",
    "display.start()"
   ]
  },
  {
   "cell_type": "code",
   "execution_count": 2,
   "metadata": {},
   "outputs": [],
   "source": [
    "# Pakete aus dem VMAS_Use_vmas_Environment Notebook\n",
    "\n",
    "#from vmas.simulator.scenario import BaseScenario\n",
    "#from typing import Union\n",
    "#import time\n",
    "#import torch\n",
    "#from vmas import make_env\n",
    "#from vmas.simulator.core import Agent"
   ]
  },
  {
   "cell_type": "code",
   "execution_count": null,
   "metadata": {},
   "outputs": [],
   "source": [
    "from vmas.simulator.scenario import BaseScenario\n",
    "from vmas.simulator.core import Agent, World\n",
    "import torch\n",
    "#import time\n",
    "\n",
    "\n",
    "class MyTransportScenario(BaseScenario):\n",
    "    def make_world(self, batch_dim: int, device: torch.device, **kwargs):\n",
    "        world = World(batch_dim, device)\n",
    "        # Hier können Sie Ihre Agenten und Entitäten zum World-Objekt hinzufügen.\n",
    "        return world\n",
    "\n",
    "    def reset_world_at(self, env_index: int = None):\n",
    "        # Implementieren Sie die Logik zum Zurücksetzen des Szenarios hier.\n",
    "\n",
    "    def reward(self, agent: Agent):\n",
    "        # Definieren Sie die Belohnungslogik für einen Agenten hier.\n",
    "\n",
    "    def process_action(self, agent: Agent):\n",
    "        # Verarbeiten Sie die Aktionen der Agenten hier.\n",
    "\n",
    "    def observation(self, agent: Agent):\n",
    "        # Definieren Sie die Beobachtungslogik für einen Agenten hier.\n",
    "\n",
    "    def done(self):\n",
    "        # Definieren Sie die Logik, um zu überprüfen, ob das Szenario abgeschlossen ist."
   ]
  }
 ],
 "metadata": {
  "kernelspec": {
   "display_name": "Python 3",
   "language": "python",
   "name": "python3"
  },
  "language_info": {
   "codemirror_mode": {
    "name": "ipython",
    "version": 3
   },
   "file_extension": ".py",
   "mimetype": "text/x-python",
   "name": "python",
   "nbconvert_exporter": "python",
   "pygments_lexer": "ipython3",
   "version": "3.12.3"
  }
 },
 "nbformat": 4,
 "nbformat_minor": 2
}
